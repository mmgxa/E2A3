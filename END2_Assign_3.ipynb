{
  "nbformat": 4,
  "nbformat_minor": 0,
  "metadata": {
    "colab": {
      "name": "END2 - Assign 3.ipynb",
      "provenance": [],
      "collapsed_sections": []
    },
    "kernelspec": {
      "name": "python3",
      "display_name": "Python 3"
    },
    "language_info": {
      "name": "python"
    },
    "accelerator": "GPU",
    "widgets": {
      "application/vnd.jupyter.widget-state+json": {
        "252724a51e344ec3a76055342bb4c7ea": {
          "model_module": "@jupyter-widgets/controls",
          "model_name": "HBoxModel",
          "state": {
            "_view_name": "HBoxView",
            "_dom_classes": [],
            "_model_name": "HBoxModel",
            "_view_module": "@jupyter-widgets/controls",
            "_model_module_version": "1.5.0",
            "_view_count": null,
            "_view_module_version": "1.5.0",
            "box_style": "",
            "layout": "IPY_MODEL_c563a10c7bc64843b329e90a55118c09",
            "_model_module": "@jupyter-widgets/controls",
            "children": [
              "IPY_MODEL_7b512b6bea144e12b7da51343d402839",
              "IPY_MODEL_eff3f32c8f1f42ea8f46b4b3bd1e3152"
            ]
          }
        },
        "c563a10c7bc64843b329e90a55118c09": {
          "model_module": "@jupyter-widgets/base",
          "model_name": "LayoutModel",
          "state": {
            "_view_name": "LayoutView",
            "grid_template_rows": null,
            "right": null,
            "justify_content": null,
            "_view_module": "@jupyter-widgets/base",
            "overflow": null,
            "_model_module_version": "1.2.0",
            "_view_count": null,
            "flex_flow": null,
            "width": null,
            "min_width": null,
            "border": null,
            "align_items": null,
            "bottom": null,
            "_model_module": "@jupyter-widgets/base",
            "top": null,
            "grid_column": null,
            "overflow_y": null,
            "overflow_x": null,
            "grid_auto_flow": null,
            "grid_area": null,
            "grid_template_columns": null,
            "flex": null,
            "_model_name": "LayoutModel",
            "justify_items": null,
            "grid_row": null,
            "max_height": null,
            "align_content": null,
            "visibility": null,
            "align_self": null,
            "height": null,
            "min_height": null,
            "padding": null,
            "grid_auto_rows": null,
            "grid_gap": null,
            "max_width": null,
            "order": null,
            "_view_module_version": "1.2.0",
            "grid_template_areas": null,
            "object_position": null,
            "object_fit": null,
            "grid_auto_columns": null,
            "margin": null,
            "display": null,
            "left": null
          }
        },
        "7b512b6bea144e12b7da51343d402839": {
          "model_module": "@jupyter-widgets/controls",
          "model_name": "FloatProgressModel",
          "state": {
            "_view_name": "ProgressView",
            "style": "IPY_MODEL_60990076c23d4150bd0ce1fa6c11674e",
            "_dom_classes": [],
            "description": "",
            "_model_name": "FloatProgressModel",
            "bar_style": "success",
            "max": 9912422,
            "_view_module": "@jupyter-widgets/controls",
            "_model_module_version": "1.5.0",
            "value": 9912422,
            "_view_count": null,
            "_view_module_version": "1.5.0",
            "orientation": "horizontal",
            "min": 0,
            "description_tooltip": null,
            "_model_module": "@jupyter-widgets/controls",
            "layout": "IPY_MODEL_3d5dde435f324611a7f316b39390e8a5"
          }
        },
        "eff3f32c8f1f42ea8f46b4b3bd1e3152": {
          "model_module": "@jupyter-widgets/controls",
          "model_name": "HTMLModel",
          "state": {
            "_view_name": "HTMLView",
            "style": "IPY_MODEL_084d03d2b5a747ccaf12d34a210c90e6",
            "_dom_classes": [],
            "description": "",
            "_model_name": "HTMLModel",
            "placeholder": "​",
            "_view_module": "@jupyter-widgets/controls",
            "_model_module_version": "1.5.0",
            "value": " 9913344/? [00:00&lt;00:00, 59059132.73it/s]",
            "_view_count": null,
            "_view_module_version": "1.5.0",
            "description_tooltip": null,
            "_model_module": "@jupyter-widgets/controls",
            "layout": "IPY_MODEL_292180c5b5d84fbea67b952589644655"
          }
        },
        "60990076c23d4150bd0ce1fa6c11674e": {
          "model_module": "@jupyter-widgets/controls",
          "model_name": "ProgressStyleModel",
          "state": {
            "_view_name": "StyleView",
            "_model_name": "ProgressStyleModel",
            "description_width": "initial",
            "_view_module": "@jupyter-widgets/base",
            "_model_module_version": "1.5.0",
            "_view_count": null,
            "_view_module_version": "1.2.0",
            "bar_color": null,
            "_model_module": "@jupyter-widgets/controls"
          }
        },
        "3d5dde435f324611a7f316b39390e8a5": {
          "model_module": "@jupyter-widgets/base",
          "model_name": "LayoutModel",
          "state": {
            "_view_name": "LayoutView",
            "grid_template_rows": null,
            "right": null,
            "justify_content": null,
            "_view_module": "@jupyter-widgets/base",
            "overflow": null,
            "_model_module_version": "1.2.0",
            "_view_count": null,
            "flex_flow": null,
            "width": null,
            "min_width": null,
            "border": null,
            "align_items": null,
            "bottom": null,
            "_model_module": "@jupyter-widgets/base",
            "top": null,
            "grid_column": null,
            "overflow_y": null,
            "overflow_x": null,
            "grid_auto_flow": null,
            "grid_area": null,
            "grid_template_columns": null,
            "flex": null,
            "_model_name": "LayoutModel",
            "justify_items": null,
            "grid_row": null,
            "max_height": null,
            "align_content": null,
            "visibility": null,
            "align_self": null,
            "height": null,
            "min_height": null,
            "padding": null,
            "grid_auto_rows": null,
            "grid_gap": null,
            "max_width": null,
            "order": null,
            "_view_module_version": "1.2.0",
            "grid_template_areas": null,
            "object_position": null,
            "object_fit": null,
            "grid_auto_columns": null,
            "margin": null,
            "display": null,
            "left": null
          }
        },
        "084d03d2b5a747ccaf12d34a210c90e6": {
          "model_module": "@jupyter-widgets/controls",
          "model_name": "DescriptionStyleModel",
          "state": {
            "_view_name": "StyleView",
            "_model_name": "DescriptionStyleModel",
            "description_width": "",
            "_view_module": "@jupyter-widgets/base",
            "_model_module_version": "1.5.0",
            "_view_count": null,
            "_view_module_version": "1.2.0",
            "_model_module": "@jupyter-widgets/controls"
          }
        },
        "292180c5b5d84fbea67b952589644655": {
          "model_module": "@jupyter-widgets/base",
          "model_name": "LayoutModel",
          "state": {
            "_view_name": "LayoutView",
            "grid_template_rows": null,
            "right": null,
            "justify_content": null,
            "_view_module": "@jupyter-widgets/base",
            "overflow": null,
            "_model_module_version": "1.2.0",
            "_view_count": null,
            "flex_flow": null,
            "width": null,
            "min_width": null,
            "border": null,
            "align_items": null,
            "bottom": null,
            "_model_module": "@jupyter-widgets/base",
            "top": null,
            "grid_column": null,
            "overflow_y": null,
            "overflow_x": null,
            "grid_auto_flow": null,
            "grid_area": null,
            "grid_template_columns": null,
            "flex": null,
            "_model_name": "LayoutModel",
            "justify_items": null,
            "grid_row": null,
            "max_height": null,
            "align_content": null,
            "visibility": null,
            "align_self": null,
            "height": null,
            "min_height": null,
            "padding": null,
            "grid_auto_rows": null,
            "grid_gap": null,
            "max_width": null,
            "order": null,
            "_view_module_version": "1.2.0",
            "grid_template_areas": null,
            "object_position": null,
            "object_fit": null,
            "grid_auto_columns": null,
            "margin": null,
            "display": null,
            "left": null
          }
        },
        "41e527639e42418c855386984718ee3d": {
          "model_module": "@jupyter-widgets/controls",
          "model_name": "HBoxModel",
          "state": {
            "_view_name": "HBoxView",
            "_dom_classes": [],
            "_model_name": "HBoxModel",
            "_view_module": "@jupyter-widgets/controls",
            "_model_module_version": "1.5.0",
            "_view_count": null,
            "_view_module_version": "1.5.0",
            "box_style": "",
            "layout": "IPY_MODEL_9301dd56bbc94cf091708db95e733502",
            "_model_module": "@jupyter-widgets/controls",
            "children": [
              "IPY_MODEL_42d8f1c24d284d74b397d3ecb8e9daeb",
              "IPY_MODEL_7c85beada865414ca6d7a02810b45cc9"
            ]
          }
        },
        "9301dd56bbc94cf091708db95e733502": {
          "model_module": "@jupyter-widgets/base",
          "model_name": "LayoutModel",
          "state": {
            "_view_name": "LayoutView",
            "grid_template_rows": null,
            "right": null,
            "justify_content": null,
            "_view_module": "@jupyter-widgets/base",
            "overflow": null,
            "_model_module_version": "1.2.0",
            "_view_count": null,
            "flex_flow": null,
            "width": null,
            "min_width": null,
            "border": null,
            "align_items": null,
            "bottom": null,
            "_model_module": "@jupyter-widgets/base",
            "top": null,
            "grid_column": null,
            "overflow_y": null,
            "overflow_x": null,
            "grid_auto_flow": null,
            "grid_area": null,
            "grid_template_columns": null,
            "flex": null,
            "_model_name": "LayoutModel",
            "justify_items": null,
            "grid_row": null,
            "max_height": null,
            "align_content": null,
            "visibility": null,
            "align_self": null,
            "height": null,
            "min_height": null,
            "padding": null,
            "grid_auto_rows": null,
            "grid_gap": null,
            "max_width": null,
            "order": null,
            "_view_module_version": "1.2.0",
            "grid_template_areas": null,
            "object_position": null,
            "object_fit": null,
            "grid_auto_columns": null,
            "margin": null,
            "display": null,
            "left": null
          }
        },
        "42d8f1c24d284d74b397d3ecb8e9daeb": {
          "model_module": "@jupyter-widgets/controls",
          "model_name": "FloatProgressModel",
          "state": {
            "_view_name": "ProgressView",
            "style": "IPY_MODEL_be3ed01560774bd59eebb59943761557",
            "_dom_classes": [],
            "description": "",
            "_model_name": "FloatProgressModel",
            "bar_style": "success",
            "max": 28881,
            "_view_module": "@jupyter-widgets/controls",
            "_model_module_version": "1.5.0",
            "value": 28881,
            "_view_count": null,
            "_view_module_version": "1.5.0",
            "orientation": "horizontal",
            "min": 0,
            "description_tooltip": null,
            "_model_module": "@jupyter-widgets/controls",
            "layout": "IPY_MODEL_3a8625958eff418f8f0af56858c3ae7f"
          }
        },
        "7c85beada865414ca6d7a02810b45cc9": {
          "model_module": "@jupyter-widgets/controls",
          "model_name": "HTMLModel",
          "state": {
            "_view_name": "HTMLView",
            "style": "IPY_MODEL_8f9771b045dd4f0b8fc1ef5554c96f1b",
            "_dom_classes": [],
            "description": "",
            "_model_name": "HTMLModel",
            "placeholder": "​",
            "_view_module": "@jupyter-widgets/controls",
            "_model_module_version": "1.5.0",
            "value": " 29696/? [00:00&lt;00:00, 65440.48it/s]",
            "_view_count": null,
            "_view_module_version": "1.5.0",
            "description_tooltip": null,
            "_model_module": "@jupyter-widgets/controls",
            "layout": "IPY_MODEL_5502a12fabdf4796b80eca54d4caf596"
          }
        },
        "be3ed01560774bd59eebb59943761557": {
          "model_module": "@jupyter-widgets/controls",
          "model_name": "ProgressStyleModel",
          "state": {
            "_view_name": "StyleView",
            "_model_name": "ProgressStyleModel",
            "description_width": "initial",
            "_view_module": "@jupyter-widgets/base",
            "_model_module_version": "1.5.0",
            "_view_count": null,
            "_view_module_version": "1.2.0",
            "bar_color": null,
            "_model_module": "@jupyter-widgets/controls"
          }
        },
        "3a8625958eff418f8f0af56858c3ae7f": {
          "model_module": "@jupyter-widgets/base",
          "model_name": "LayoutModel",
          "state": {
            "_view_name": "LayoutView",
            "grid_template_rows": null,
            "right": null,
            "justify_content": null,
            "_view_module": "@jupyter-widgets/base",
            "overflow": null,
            "_model_module_version": "1.2.0",
            "_view_count": null,
            "flex_flow": null,
            "width": null,
            "min_width": null,
            "border": null,
            "align_items": null,
            "bottom": null,
            "_model_module": "@jupyter-widgets/base",
            "top": null,
            "grid_column": null,
            "overflow_y": null,
            "overflow_x": null,
            "grid_auto_flow": null,
            "grid_area": null,
            "grid_template_columns": null,
            "flex": null,
            "_model_name": "LayoutModel",
            "justify_items": null,
            "grid_row": null,
            "max_height": null,
            "align_content": null,
            "visibility": null,
            "align_self": null,
            "height": null,
            "min_height": null,
            "padding": null,
            "grid_auto_rows": null,
            "grid_gap": null,
            "max_width": null,
            "order": null,
            "_view_module_version": "1.2.0",
            "grid_template_areas": null,
            "object_position": null,
            "object_fit": null,
            "grid_auto_columns": null,
            "margin": null,
            "display": null,
            "left": null
          }
        },
        "8f9771b045dd4f0b8fc1ef5554c96f1b": {
          "model_module": "@jupyter-widgets/controls",
          "model_name": "DescriptionStyleModel",
          "state": {
            "_view_name": "StyleView",
            "_model_name": "DescriptionStyleModel",
            "description_width": "",
            "_view_module": "@jupyter-widgets/base",
            "_model_module_version": "1.5.0",
            "_view_count": null,
            "_view_module_version": "1.2.0",
            "_model_module": "@jupyter-widgets/controls"
          }
        },
        "5502a12fabdf4796b80eca54d4caf596": {
          "model_module": "@jupyter-widgets/base",
          "model_name": "LayoutModel",
          "state": {
            "_view_name": "LayoutView",
            "grid_template_rows": null,
            "right": null,
            "justify_content": null,
            "_view_module": "@jupyter-widgets/base",
            "overflow": null,
            "_model_module_version": "1.2.0",
            "_view_count": null,
            "flex_flow": null,
            "width": null,
            "min_width": null,
            "border": null,
            "align_items": null,
            "bottom": null,
            "_model_module": "@jupyter-widgets/base",
            "top": null,
            "grid_column": null,
            "overflow_y": null,
            "overflow_x": null,
            "grid_auto_flow": null,
            "grid_area": null,
            "grid_template_columns": null,
            "flex": null,
            "_model_name": "LayoutModel",
            "justify_items": null,
            "grid_row": null,
            "max_height": null,
            "align_content": null,
            "visibility": null,
            "align_self": null,
            "height": null,
            "min_height": null,
            "padding": null,
            "grid_auto_rows": null,
            "grid_gap": null,
            "max_width": null,
            "order": null,
            "_view_module_version": "1.2.0",
            "grid_template_areas": null,
            "object_position": null,
            "object_fit": null,
            "grid_auto_columns": null,
            "margin": null,
            "display": null,
            "left": null
          }
        },
        "8f3a51735aa842e79c477c095a075050": {
          "model_module": "@jupyter-widgets/controls",
          "model_name": "HBoxModel",
          "state": {
            "_view_name": "HBoxView",
            "_dom_classes": [],
            "_model_name": "HBoxModel",
            "_view_module": "@jupyter-widgets/controls",
            "_model_module_version": "1.5.0",
            "_view_count": null,
            "_view_module_version": "1.5.0",
            "box_style": "",
            "layout": "IPY_MODEL_434679f7b62a4663a15ff0655d726833",
            "_model_module": "@jupyter-widgets/controls",
            "children": [
              "IPY_MODEL_b141a96edbaf4858850e294654d7aad9",
              "IPY_MODEL_625b2153068e4411a326f5ee6ce856bc"
            ]
          }
        },
        "434679f7b62a4663a15ff0655d726833": {
          "model_module": "@jupyter-widgets/base",
          "model_name": "LayoutModel",
          "state": {
            "_view_name": "LayoutView",
            "grid_template_rows": null,
            "right": null,
            "justify_content": null,
            "_view_module": "@jupyter-widgets/base",
            "overflow": null,
            "_model_module_version": "1.2.0",
            "_view_count": null,
            "flex_flow": null,
            "width": null,
            "min_width": null,
            "border": null,
            "align_items": null,
            "bottom": null,
            "_model_module": "@jupyter-widgets/base",
            "top": null,
            "grid_column": null,
            "overflow_y": null,
            "overflow_x": null,
            "grid_auto_flow": null,
            "grid_area": null,
            "grid_template_columns": null,
            "flex": null,
            "_model_name": "LayoutModel",
            "justify_items": null,
            "grid_row": null,
            "max_height": null,
            "align_content": null,
            "visibility": null,
            "align_self": null,
            "height": null,
            "min_height": null,
            "padding": null,
            "grid_auto_rows": null,
            "grid_gap": null,
            "max_width": null,
            "order": null,
            "_view_module_version": "1.2.0",
            "grid_template_areas": null,
            "object_position": null,
            "object_fit": null,
            "grid_auto_columns": null,
            "margin": null,
            "display": null,
            "left": null
          }
        },
        "b141a96edbaf4858850e294654d7aad9": {
          "model_module": "@jupyter-widgets/controls",
          "model_name": "FloatProgressModel",
          "state": {
            "_view_name": "ProgressView",
            "style": "IPY_MODEL_187022b84d064bccb3b32c0a51a214b9",
            "_dom_classes": [],
            "description": "",
            "_model_name": "FloatProgressModel",
            "bar_style": "success",
            "max": 1648877,
            "_view_module": "@jupyter-widgets/controls",
            "_model_module_version": "1.5.0",
            "value": 1648877,
            "_view_count": null,
            "_view_module_version": "1.5.0",
            "orientation": "horizontal",
            "min": 0,
            "description_tooltip": null,
            "_model_module": "@jupyter-widgets/controls",
            "layout": "IPY_MODEL_3df5a95771e84835bcf5578627341057"
          }
        },
        "625b2153068e4411a326f5ee6ce856bc": {
          "model_module": "@jupyter-widgets/controls",
          "model_name": "HTMLModel",
          "state": {
            "_view_name": "HTMLView",
            "style": "IPY_MODEL_345299aff358439cba479d0fc276e9a3",
            "_dom_classes": [],
            "description": "",
            "_model_name": "HTMLModel",
            "placeholder": "​",
            "_view_module": "@jupyter-widgets/controls",
            "_model_module_version": "1.5.0",
            "value": " 1649664/? [00:00&lt;00:00, 5763721.73it/s]",
            "_view_count": null,
            "_view_module_version": "1.5.0",
            "description_tooltip": null,
            "_model_module": "@jupyter-widgets/controls",
            "layout": "IPY_MODEL_605604aa89414eca85a1ece54ba61f91"
          }
        },
        "187022b84d064bccb3b32c0a51a214b9": {
          "model_module": "@jupyter-widgets/controls",
          "model_name": "ProgressStyleModel",
          "state": {
            "_view_name": "StyleView",
            "_model_name": "ProgressStyleModel",
            "description_width": "initial",
            "_view_module": "@jupyter-widgets/base",
            "_model_module_version": "1.5.0",
            "_view_count": null,
            "_view_module_version": "1.2.0",
            "bar_color": null,
            "_model_module": "@jupyter-widgets/controls"
          }
        },
        "3df5a95771e84835bcf5578627341057": {
          "model_module": "@jupyter-widgets/base",
          "model_name": "LayoutModel",
          "state": {
            "_view_name": "LayoutView",
            "grid_template_rows": null,
            "right": null,
            "justify_content": null,
            "_view_module": "@jupyter-widgets/base",
            "overflow": null,
            "_model_module_version": "1.2.0",
            "_view_count": null,
            "flex_flow": null,
            "width": null,
            "min_width": null,
            "border": null,
            "align_items": null,
            "bottom": null,
            "_model_module": "@jupyter-widgets/base",
            "top": null,
            "grid_column": null,
            "overflow_y": null,
            "overflow_x": null,
            "grid_auto_flow": null,
            "grid_area": null,
            "grid_template_columns": null,
            "flex": null,
            "_model_name": "LayoutModel",
            "justify_items": null,
            "grid_row": null,
            "max_height": null,
            "align_content": null,
            "visibility": null,
            "align_self": null,
            "height": null,
            "min_height": null,
            "padding": null,
            "grid_auto_rows": null,
            "grid_gap": null,
            "max_width": null,
            "order": null,
            "_view_module_version": "1.2.0",
            "grid_template_areas": null,
            "object_position": null,
            "object_fit": null,
            "grid_auto_columns": null,
            "margin": null,
            "display": null,
            "left": null
          }
        },
        "345299aff358439cba479d0fc276e9a3": {
          "model_module": "@jupyter-widgets/controls",
          "model_name": "DescriptionStyleModel",
          "state": {
            "_view_name": "StyleView",
            "_model_name": "DescriptionStyleModel",
            "description_width": "",
            "_view_module": "@jupyter-widgets/base",
            "_model_module_version": "1.5.0",
            "_view_count": null,
            "_view_module_version": "1.2.0",
            "_model_module": "@jupyter-widgets/controls"
          }
        },
        "605604aa89414eca85a1ece54ba61f91": {
          "model_module": "@jupyter-widgets/base",
          "model_name": "LayoutModel",
          "state": {
            "_view_name": "LayoutView",
            "grid_template_rows": null,
            "right": null,
            "justify_content": null,
            "_view_module": "@jupyter-widgets/base",
            "overflow": null,
            "_model_module_version": "1.2.0",
            "_view_count": null,
            "flex_flow": null,
            "width": null,
            "min_width": null,
            "border": null,
            "align_items": null,
            "bottom": null,
            "_model_module": "@jupyter-widgets/base",
            "top": null,
            "grid_column": null,
            "overflow_y": null,
            "overflow_x": null,
            "grid_auto_flow": null,
            "grid_area": null,
            "grid_template_columns": null,
            "flex": null,
            "_model_name": "LayoutModel",
            "justify_items": null,
            "grid_row": null,
            "max_height": null,
            "align_content": null,
            "visibility": null,
            "align_self": null,
            "height": null,
            "min_height": null,
            "padding": null,
            "grid_auto_rows": null,
            "grid_gap": null,
            "max_width": null,
            "order": null,
            "_view_module_version": "1.2.0",
            "grid_template_areas": null,
            "object_position": null,
            "object_fit": null,
            "grid_auto_columns": null,
            "margin": null,
            "display": null,
            "left": null
          }
        },
        "90d7ce97747846d8b20996291e512e04": {
          "model_module": "@jupyter-widgets/controls",
          "model_name": "HBoxModel",
          "state": {
            "_view_name": "HBoxView",
            "_dom_classes": [],
            "_model_name": "HBoxModel",
            "_view_module": "@jupyter-widgets/controls",
            "_model_module_version": "1.5.0",
            "_view_count": null,
            "_view_module_version": "1.5.0",
            "box_style": "",
            "layout": "IPY_MODEL_9905bdc1104240d8b3708c0d5f66ca38",
            "_model_module": "@jupyter-widgets/controls",
            "children": [
              "IPY_MODEL_bec94e1db21e4c7d8fc9ab5177287f2a",
              "IPY_MODEL_4f5c9f562f7145bebe82c448d2cb2413"
            ]
          }
        },
        "9905bdc1104240d8b3708c0d5f66ca38": {
          "model_module": "@jupyter-widgets/base",
          "model_name": "LayoutModel",
          "state": {
            "_view_name": "LayoutView",
            "grid_template_rows": null,
            "right": null,
            "justify_content": null,
            "_view_module": "@jupyter-widgets/base",
            "overflow": null,
            "_model_module_version": "1.2.0",
            "_view_count": null,
            "flex_flow": null,
            "width": null,
            "min_width": null,
            "border": null,
            "align_items": null,
            "bottom": null,
            "_model_module": "@jupyter-widgets/base",
            "top": null,
            "grid_column": null,
            "overflow_y": null,
            "overflow_x": null,
            "grid_auto_flow": null,
            "grid_area": null,
            "grid_template_columns": null,
            "flex": null,
            "_model_name": "LayoutModel",
            "justify_items": null,
            "grid_row": null,
            "max_height": null,
            "align_content": null,
            "visibility": null,
            "align_self": null,
            "height": null,
            "min_height": null,
            "padding": null,
            "grid_auto_rows": null,
            "grid_gap": null,
            "max_width": null,
            "order": null,
            "_view_module_version": "1.2.0",
            "grid_template_areas": null,
            "object_position": null,
            "object_fit": null,
            "grid_auto_columns": null,
            "margin": null,
            "display": null,
            "left": null
          }
        },
        "bec94e1db21e4c7d8fc9ab5177287f2a": {
          "model_module": "@jupyter-widgets/controls",
          "model_name": "FloatProgressModel",
          "state": {
            "_view_name": "ProgressView",
            "style": "IPY_MODEL_d01ed66b1ad64c269066a4197c337d72",
            "_dom_classes": [],
            "description": "",
            "_model_name": "FloatProgressModel",
            "bar_style": "success",
            "max": 4542,
            "_view_module": "@jupyter-widgets/controls",
            "_model_module_version": "1.5.0",
            "value": 4542,
            "_view_count": null,
            "_view_module_version": "1.5.0",
            "orientation": "horizontal",
            "min": 0,
            "description_tooltip": null,
            "_model_module": "@jupyter-widgets/controls",
            "layout": "IPY_MODEL_645f213c112343a584f88ac62c5dbc31"
          }
        },
        "4f5c9f562f7145bebe82c448d2cb2413": {
          "model_module": "@jupyter-widgets/controls",
          "model_name": "HTMLModel",
          "state": {
            "_view_name": "HTMLView",
            "style": "IPY_MODEL_acf5b97908704be999c7b3b71ef2eebe",
            "_dom_classes": [],
            "description": "",
            "_model_name": "HTMLModel",
            "placeholder": "​",
            "_view_module": "@jupyter-widgets/controls",
            "_model_module_version": "1.5.0",
            "value": " 5120/? [00:00&lt;00:00, 102171.60it/s]",
            "_view_count": null,
            "_view_module_version": "1.5.0",
            "description_tooltip": null,
            "_model_module": "@jupyter-widgets/controls",
            "layout": "IPY_MODEL_3850ea7e94e94d23ad0ea0e4e8395181"
          }
        },
        "d01ed66b1ad64c269066a4197c337d72": {
          "model_module": "@jupyter-widgets/controls",
          "model_name": "ProgressStyleModel",
          "state": {
            "_view_name": "StyleView",
            "_model_name": "ProgressStyleModel",
            "description_width": "initial",
            "_view_module": "@jupyter-widgets/base",
            "_model_module_version": "1.5.0",
            "_view_count": null,
            "_view_module_version": "1.2.0",
            "bar_color": null,
            "_model_module": "@jupyter-widgets/controls"
          }
        },
        "645f213c112343a584f88ac62c5dbc31": {
          "model_module": "@jupyter-widgets/base",
          "model_name": "LayoutModel",
          "state": {
            "_view_name": "LayoutView",
            "grid_template_rows": null,
            "right": null,
            "justify_content": null,
            "_view_module": "@jupyter-widgets/base",
            "overflow": null,
            "_model_module_version": "1.2.0",
            "_view_count": null,
            "flex_flow": null,
            "width": null,
            "min_width": null,
            "border": null,
            "align_items": null,
            "bottom": null,
            "_model_module": "@jupyter-widgets/base",
            "top": null,
            "grid_column": null,
            "overflow_y": null,
            "overflow_x": null,
            "grid_auto_flow": null,
            "grid_area": null,
            "grid_template_columns": null,
            "flex": null,
            "_model_name": "LayoutModel",
            "justify_items": null,
            "grid_row": null,
            "max_height": null,
            "align_content": null,
            "visibility": null,
            "align_self": null,
            "height": null,
            "min_height": null,
            "padding": null,
            "grid_auto_rows": null,
            "grid_gap": null,
            "max_width": null,
            "order": null,
            "_view_module_version": "1.2.0",
            "grid_template_areas": null,
            "object_position": null,
            "object_fit": null,
            "grid_auto_columns": null,
            "margin": null,
            "display": null,
            "left": null
          }
        },
        "acf5b97908704be999c7b3b71ef2eebe": {
          "model_module": "@jupyter-widgets/controls",
          "model_name": "DescriptionStyleModel",
          "state": {
            "_view_name": "StyleView",
            "_model_name": "DescriptionStyleModel",
            "description_width": "",
            "_view_module": "@jupyter-widgets/base",
            "_model_module_version": "1.5.0",
            "_view_count": null,
            "_view_module_version": "1.2.0",
            "_model_module": "@jupyter-widgets/controls"
          }
        },
        "3850ea7e94e94d23ad0ea0e4e8395181": {
          "model_module": "@jupyter-widgets/base",
          "model_name": "LayoutModel",
          "state": {
            "_view_name": "LayoutView",
            "grid_template_rows": null,
            "right": null,
            "justify_content": null,
            "_view_module": "@jupyter-widgets/base",
            "overflow": null,
            "_model_module_version": "1.2.0",
            "_view_count": null,
            "flex_flow": null,
            "width": null,
            "min_width": null,
            "border": null,
            "align_items": null,
            "bottom": null,
            "_model_module": "@jupyter-widgets/base",
            "top": null,
            "grid_column": null,
            "overflow_y": null,
            "overflow_x": null,
            "grid_auto_flow": null,
            "grid_area": null,
            "grid_template_columns": null,
            "flex": null,
            "_model_name": "LayoutModel",
            "justify_items": null,
            "grid_row": null,
            "max_height": null,
            "align_content": null,
            "visibility": null,
            "align_self": null,
            "height": null,
            "min_height": null,
            "padding": null,
            "grid_auto_rows": null,
            "grid_gap": null,
            "max_width": null,
            "order": null,
            "_view_module_version": "1.2.0",
            "grid_template_areas": null,
            "object_position": null,
            "object_fit": null,
            "grid_auto_columns": null,
            "margin": null,
            "display": null,
            "left": null
          }
        }
      }
    }
  },
  "cells": [
    {
      "cell_type": "markdown",
      "metadata": {
        "id": "Wb5cCNGSucOV"
      },
      "source": [
        "## Imports"
      ]
    },
    {
      "cell_type": "code",
      "metadata": {
        "id": "7Bq9xYnuubGi"
      },
      "source": [
        "import torch\n",
        "import torch.nn as nn\n",
        "import torchvision\n",
        "import torchvision.transforms as transforms\n",
        "import numpy as np\n",
        "import torch.nn.functional as F\n",
        "from torchsummary import summary"
      ],
      "execution_count": 1,
      "outputs": []
    },
    {
      "cell_type": "markdown",
      "metadata": {
        "id": "9ssymKcCujFZ"
      },
      "source": [
        "## Loading the MNIST Dataset"
      ]
    },
    {
      "cell_type": "code",
      "metadata": {
        "id": "tryfs0quulRt",
        "colab": {
          "base_uri": "https://localhost:8080/",
          "height": 845,
          "referenced_widgets": [
            "252724a51e344ec3a76055342bb4c7ea",
            "c563a10c7bc64843b329e90a55118c09",
            "7b512b6bea144e12b7da51343d402839",
            "eff3f32c8f1f42ea8f46b4b3bd1e3152",
            "60990076c23d4150bd0ce1fa6c11674e",
            "3d5dde435f324611a7f316b39390e8a5",
            "084d03d2b5a747ccaf12d34a210c90e6",
            "292180c5b5d84fbea67b952589644655",
            "41e527639e42418c855386984718ee3d",
            "9301dd56bbc94cf091708db95e733502",
            "42d8f1c24d284d74b397d3ecb8e9daeb",
            "7c85beada865414ca6d7a02810b45cc9",
            "be3ed01560774bd59eebb59943761557",
            "3a8625958eff418f8f0af56858c3ae7f",
            "8f9771b045dd4f0b8fc1ef5554c96f1b",
            "5502a12fabdf4796b80eca54d4caf596",
            "8f3a51735aa842e79c477c095a075050",
            "434679f7b62a4663a15ff0655d726833",
            "b141a96edbaf4858850e294654d7aad9",
            "625b2153068e4411a326f5ee6ce856bc",
            "187022b84d064bccb3b32c0a51a214b9",
            "3df5a95771e84835bcf5578627341057",
            "345299aff358439cba479d0fc276e9a3",
            "605604aa89414eca85a1ece54ba61f91",
            "90d7ce97747846d8b20996291e512e04",
            "9905bdc1104240d8b3708c0d5f66ca38",
            "bec94e1db21e4c7d8fc9ab5177287f2a",
            "4f5c9f562f7145bebe82c448d2cb2413",
            "d01ed66b1ad64c269066a4197c337d72",
            "645f213c112343a584f88ac62c5dbc31",
            "acf5b97908704be999c7b3b71ef2eebe",
            "3850ea7e94e94d23ad0ea0e4e8395181"
          ]
        },
        "outputId": "1502b75e-e34f-463f-a2d3-df4082924f4e"
      },
      "source": [
        "train_dataset = torchvision.datasets.MNIST(\n",
        "                    root='.',\n",
        "                    train=True,\n",
        "                    transform=transforms.ToTensor(), \n",
        "                    download=True)\n",
        "\n",
        "test_dataset = torchvision.datasets.MNIST(\n",
        "                    root='.',\n",
        "                    train=False,\n",
        "                    transform=transforms.ToTensor(),\n",
        "                    download=True)"
      ],
      "execution_count": 2,
      "outputs": [
        {
          "output_type": "stream",
          "text": [
            "Downloading http://yann.lecun.com/exdb/mnist/train-images-idx3-ubyte.gz\n",
            "Failed to download (trying next):\n",
            "HTTP Error 503: Service Unavailable\n",
            "\n",
            "Downloading https://ossci-datasets.s3.amazonaws.com/mnist/train-images-idx3-ubyte.gz\n",
            "Downloading https://ossci-datasets.s3.amazonaws.com/mnist/train-images-idx3-ubyte.gz to ./MNIST/raw/train-images-idx3-ubyte.gz\n"
          ],
          "name": "stdout"
        },
        {
          "output_type": "display_data",
          "data": {
            "application/vnd.jupyter.widget-view+json": {
              "model_id": "252724a51e344ec3a76055342bb4c7ea",
              "version_minor": 0,
              "version_major": 2
            },
            "text/plain": [
              "HBox(children=(FloatProgress(value=0.0, max=9912422.0), HTML(value='')))"
            ]
          },
          "metadata": {
            "tags": []
          }
        },
        {
          "output_type": "stream",
          "text": [
            "\n",
            "Extracting ./MNIST/raw/train-images-idx3-ubyte.gz to ./MNIST/raw\n",
            "\n",
            "Downloading http://yann.lecun.com/exdb/mnist/train-labels-idx1-ubyte.gz\n",
            "Failed to download (trying next):\n",
            "HTTP Error 503: Service Unavailable\n",
            "\n",
            "Downloading https://ossci-datasets.s3.amazonaws.com/mnist/train-labels-idx1-ubyte.gz\n",
            "Downloading https://ossci-datasets.s3.amazonaws.com/mnist/train-labels-idx1-ubyte.gz to ./MNIST/raw/train-labels-idx1-ubyte.gz\n"
          ],
          "name": "stdout"
        },
        {
          "output_type": "display_data",
          "data": {
            "application/vnd.jupyter.widget-view+json": {
              "model_id": "41e527639e42418c855386984718ee3d",
              "version_minor": 0,
              "version_major": 2
            },
            "text/plain": [
              "HBox(children=(FloatProgress(value=0.0, max=28881.0), HTML(value='')))"
            ]
          },
          "metadata": {
            "tags": []
          }
        },
        {
          "output_type": "stream",
          "text": [
            "\n",
            "Extracting ./MNIST/raw/train-labels-idx1-ubyte.gz to ./MNIST/raw\n",
            "\n",
            "Downloading http://yann.lecun.com/exdb/mnist/t10k-images-idx3-ubyte.gz\n",
            "Failed to download (trying next):\n",
            "HTTP Error 503: Service Unavailable\n",
            "\n",
            "Downloading https://ossci-datasets.s3.amazonaws.com/mnist/t10k-images-idx3-ubyte.gz\n",
            "Downloading https://ossci-datasets.s3.amazonaws.com/mnist/t10k-images-idx3-ubyte.gz to ./MNIST/raw/t10k-images-idx3-ubyte.gz\n"
          ],
          "name": "stdout"
        },
        {
          "output_type": "display_data",
          "data": {
            "application/vnd.jupyter.widget-view+json": {
              "model_id": "8f3a51735aa842e79c477c095a075050",
              "version_minor": 0,
              "version_major": 2
            },
            "text/plain": [
              "HBox(children=(FloatProgress(value=0.0, max=1648877.0), HTML(value='')))"
            ]
          },
          "metadata": {
            "tags": []
          }
        },
        {
          "output_type": "stream",
          "text": [
            "\n",
            "Extracting ./MNIST/raw/t10k-images-idx3-ubyte.gz to ./MNIST/raw\n",
            "\n",
            "Downloading http://yann.lecun.com/exdb/mnist/t10k-labels-idx1-ubyte.gz\n",
            "Failed to download (trying next):\n",
            "HTTP Error 503: Service Unavailable\n",
            "\n",
            "Downloading https://ossci-datasets.s3.amazonaws.com/mnist/t10k-labels-idx1-ubyte.gz\n",
            "Downloading https://ossci-datasets.s3.amazonaws.com/mnist/t10k-labels-idx1-ubyte.gz to ./MNIST/raw/t10k-labels-idx1-ubyte.gz\n"
          ],
          "name": "stdout"
        },
        {
          "output_type": "display_data",
          "data": {
            "application/vnd.jupyter.widget-view+json": {
              "model_id": "90d7ce97747846d8b20996291e512e04",
              "version_minor": 0,
              "version_major": 2
            },
            "text/plain": [
              "HBox(children=(FloatProgress(value=0.0, max=4542.0), HTML(value='')))"
            ]
          },
          "metadata": {
            "tags": []
          }
        },
        {
          "output_type": "stream",
          "text": [
            "\n",
            "Extracting ./MNIST/raw/t10k-labels-idx1-ubyte.gz to ./MNIST/raw\n",
            "\n",
            "Processing...\n",
            "Done!\n"
          ],
          "name": "stdout"
        },
        {
          "output_type": "stream",
          "text": [
            "/usr/local/lib/python3.7/dist-packages/torchvision/datasets/mnist.py:502: UserWarning: The given NumPy array is not writeable, and PyTorch does not support non-writeable tensors. This means you can write to the underlying (supposedly non-writeable) NumPy array using the tensor. You may want to copy the array to protect its data or make it writeable before converting it to a tensor. This type of warning will be suppressed for the rest of this program. (Triggered internally at  /pytorch/torch/csrc/utils/tensor_numpy.cpp:143.)\n",
            "  return torch.from_numpy(parsed.astype(m[2], copy=False)).view(*s)\n"
          ],
          "name": "stderr"
        }
      ]
    },
    {
      "cell_type": "markdown",
      "metadata": {
        "id": "xyFEJpkduuGS"
      },
      "source": [
        " ## Generate random numbers"
      ]
    },
    {
      "cell_type": "code",
      "metadata": {
        "id": "i213RXOSupry"
      },
      "source": [
        "# Train Set, 60000 Samples\n",
        "number_train = torch.randint(0, 9, (60000,)) # Random Digit i.e. Second Input\n",
        "sum_train = number_train + train_dataset.targets # Sum of Random Digit and MNIST i.e. Second Output\n",
        "number_train = torch.nn.functional.one_hot(number_train, num_classes=10)\n",
        "\n",
        "# Test Set, 10000 Samples\n",
        "number_test = torch.randint(0, 9, (10000,)) # Random Digit i.e. Second Input\n",
        "sum_test = number_test + test_dataset.targets # Sum of Random Digit and MNIST i.e. Second Output\n",
        "number_test = torch.nn.functional.one_hot(number_test, num_classes=10)"
      ],
      "execution_count": 3,
      "outputs": []
    },
    {
      "cell_type": "markdown",
      "metadata": {
        "id": "C_69MdhcvFOS"
      },
      "source": [
        "## Re-creating Dataset"
      ]
    },
    {
      "cell_type": "code",
      "metadata": {
        "id": "F6Ui8J4MvG39"
      },
      "source": [
        "# Flattens the MNIST images\n",
        "train_x = train_dataset.data.reshape(60000, 784).float()\n",
        "test_x = test_dataset.data.reshape(10000, 784).float()\n",
        "\n",
        "# Creats the Dataset with two inputs and two outputs\n",
        "train_ds = torch.utils.data.TensorDataset(train_x, number_train, train_dataset.targets, sum_train)\n",
        "test_ds = torch.utils.data.TensorDataset(test_x, number_test, test_dataset.targets, sum_test)"
      ],
      "execution_count": 4,
      "outputs": []
    },
    {
      "cell_type": "markdown",
      "metadata": {
        "id": "G-F0OAlBvIfb"
      },
      "source": [
        "## DataLoader"
      ]
    },
    {
      "cell_type": "code",
      "metadata": {
        "id": "SpqFLHofvL-A"
      },
      "source": [
        "batch_size = 32\n",
        "train_loader = torch.utils.data.DataLoader(\n",
        "                        dataset=train_ds,\n",
        "                        batch_size=batch_size,\n",
        "                        shuffle=True\n",
        "                        )\n",
        "\n",
        "test_loader = torch.utils.data.DataLoader(\n",
        "                        dataset=test_ds,\n",
        "                        batch_size=batch_size,\n",
        "                        shuffle=False # Not necessary!\n",
        "                        )"
      ],
      "execution_count": 5,
      "outputs": []
    },
    {
      "cell_type": "markdown",
      "metadata": {
        "id": "ZBBXOpDsvOVm"
      },
      "source": [
        "## Model"
      ]
    },
    {
      "cell_type": "code",
      "metadata": {
        "id": "TgOtM7hEvPhu"
      },
      "source": [
        "class Model(nn.Module):\n",
        "    def __init__(self):\n",
        "        super(Model, self).__init__()\n",
        "        self.lineara1 = nn.Linear(784, 30) # Flattened MNIST as Input: 28 * 28\n",
        "        self.relu = nn.ReLU()\n",
        "        self.selu = nn.SELU()\n",
        "        self.lineara2 = nn.Linear(30, 30)\n",
        "        self.lineara3 = nn.Linear(30,10) # 10 Classes for First Output: 0-9\n",
        "\n",
        "        self.linearb1 = nn.Linear(40, 60) # 10 for random digit, 30 from output of lineara1 layer\n",
        "        self.linearb2 = nn.Linear(60, 30)\n",
        "        self.linearb3 = nn.Linear(30,19) # 19 Classes for Second Output: 0-18\n",
        "            \n",
        "    def forward(self, Xa, Xb):\n",
        "\n",
        "        out = self.lineara1(Xa)\n",
        "        out1 = self.selu(out)\n",
        "        out = self.lineara2(out1)\n",
        "        out = self.selu(out)\n",
        "        out = self.lineara3(out)\n",
        "        outa = self.selu(out)\n",
        "\n",
        "\n",
        "        inb = torch.cat((out1,Xb), dim=-1) # Gets input from the first layer after the input layer\n",
        "        outb = self.linearb1(inb)\n",
        "        outb = self.relu(outb)\n",
        "        outb = self.linearb2(outb)\n",
        "        outb = self.relu(outb)\n",
        "\n",
        "        outb = self.linearb3(outb)\n",
        "        outb = self.relu(outb)\n",
        "        return outa, outb\n",
        "\n",
        "# Instantiate the Model\n",
        "model = Model()"
      ],
      "execution_count": 6,
      "outputs": []
    },
    {
      "cell_type": "markdown",
      "metadata": {
        "id": "CXu7e9qSvUQx"
      },
      "source": [
        "## Move Model to GPU (Required Condition by Assignment!)"
      ]
    },
    {
      "cell_type": "code",
      "metadata": {
        "colab": {
          "base_uri": "https://localhost:8080/"
        },
        "id": "fYPA-pEIvaUS",
        "outputId": "09bd354b-5905-416e-9d13-dd8765bc2699"
      },
      "source": [
        "device = torch.device(\"cuda:0\" if torch.cuda.is_available() else \"cpu\")\n",
        "print(device)\n",
        "model.to(device)"
      ],
      "execution_count": 7,
      "outputs": [
        {
          "output_type": "stream",
          "text": [
            "cuda:0\n"
          ],
          "name": "stdout"
        },
        {
          "output_type": "execute_result",
          "data": {
            "text/plain": [
              "Model(\n",
              "  (lineara1): Linear(in_features=784, out_features=30, bias=True)\n",
              "  (relu): ReLU()\n",
              "  (selu): SELU()\n",
              "  (lineara2): Linear(in_features=30, out_features=30, bias=True)\n",
              "  (lineara3): Linear(in_features=30, out_features=10, bias=True)\n",
              "  (linearb1): Linear(in_features=40, out_features=60, bias=True)\n",
              "  (linearb2): Linear(in_features=60, out_features=30, bias=True)\n",
              "  (linearb3): Linear(in_features=30, out_features=19, bias=True)\n",
              ")"
            ]
          },
          "metadata": {
            "tags": []
          },
          "execution_count": 7
        }
      ]
    },
    {
      "cell_type": "markdown",
      "metadata": {
        "id": "lRI8imRdvcHv"
      },
      "source": [
        "## Model Summary"
      ]
    },
    {
      "cell_type": "code",
      "metadata": {
        "colab": {
          "base_uri": "https://localhost:8080/"
        },
        "id": "qa4iXVqLvdpW",
        "outputId": "4f681d7e-59f2-42ac-98c0-5c792fe19f7f"
      },
      "source": [
        "summary(model, [(1,784), (1,10)])"
      ],
      "execution_count": 8,
      "outputs": [
        {
          "output_type": "stream",
          "text": [
            "----------------------------------------------------------------\n",
            "        Layer (type)               Output Shape         Param #\n",
            "================================================================\n",
            "            Linear-1                [-1, 1, 30]          23,550\n",
            "              SELU-2                [-1, 1, 30]               0\n",
            "            Linear-3                [-1, 1, 30]             930\n",
            "              SELU-4                [-1, 1, 30]               0\n",
            "            Linear-5                [-1, 1, 10]             310\n",
            "              SELU-6                [-1, 1, 10]               0\n",
            "            Linear-7                [-1, 1, 60]           2,460\n",
            "              ReLU-8                [-1, 1, 60]               0\n",
            "            Linear-9                [-1, 1, 30]           1,830\n",
            "             ReLU-10                [-1, 1, 30]               0\n",
            "           Linear-11                [-1, 1, 19]             589\n",
            "             ReLU-12                [-1, 1, 19]               0\n",
            "================================================================\n",
            "Total params: 29,669\n",
            "Trainable params: 29,669\n",
            "Non-trainable params: 0\n",
            "----------------------------------------------------------------\n",
            "Input size (MB): 0.03\n",
            "Forward/backward pass size (MB): 0.00\n",
            "Params size (MB): 0.11\n",
            "Estimated Total Size (MB): 0.15\n",
            "----------------------------------------------------------------\n"
          ],
          "name": "stdout"
        }
      ]
    },
    {
      "cell_type": "markdown",
      "metadata": {
        "id": "kO9dQJJfvfPc"
      },
      "source": [
        "## Loss and Optimizer"
      ]
    },
    {
      "cell_type": "code",
      "metadata": {
        "id": "o79IzzV7vhae"
      },
      "source": [
        "loss_fn = nn.CrossEntropyLoss()\n",
        "optimizer = torch.optim.Adam(model.parameters())"
      ],
      "execution_count": 9,
      "outputs": []
    },
    {
      "cell_type": "markdown",
      "metadata": {
        "id": "B6ClCvKqwO4X"
      },
      "source": [
        "## Training Loop"
      ]
    },
    {
      "cell_type": "code",
      "metadata": {
        "colab": {
          "base_uri": "https://localhost:8080/"
        },
        "id": "gpql5R5EwQEd",
        "outputId": "dc749db5-e7e8-4f02-960a-2f538677a744"
      },
      "source": [
        "\n",
        "n_epochs = 20\n",
        "\n",
        "\n",
        "\n",
        "for epoch in range(n_epochs):\n",
        "    train_loss = []\n",
        "    n_correcta = 0.\n",
        "    n_correctb = 0.  \n",
        "    n_total = 0.\n",
        "\n",
        "    for inputs, numbers, targets, result in train_loader:\n",
        "\n",
        "        # Move data to GPU\n",
        "        inputs, numbers, targets, result = inputs.to(device), numbers.to(device), targets.to(device), result.to(device)\n",
        "        \n",
        "        # zero the gradient\n",
        "        optimizer.zero_grad()\n",
        "        \n",
        "        # forward pass\n",
        "        outputa, outputb = model(inputs, numbers)\n",
        "        lossa = loss_fn(outputa, targets)\n",
        "        lossb = loss_fn(outputb, result)\n",
        "\n",
        "        loss = lossa + lossb # Adds loss values from both outputs\n",
        "\n",
        "        # get predictiona\n",
        "        _, predictiona = torch.max(outputa, 1)\n",
        "        _, predictionb = torch.max(outputb, 1)\n",
        "\n",
        "        # update counts\n",
        "        n_correcta += (predictiona == targets).sum().item()\n",
        "        n_correctb += (predictionb == result).sum().item()\n",
        "        n_total += targets.shape[0]\n",
        " \n",
        "        # backward pass and optimize\n",
        "        loss.backward()\n",
        "        optimizer.step()\n",
        "        \n",
        "        train_loss.append(loss.item())\n",
        "        \n",
        "    train_loss = np.mean(train_loss)\n",
        "    train_acc_a = n_correcta / n_total * 100\n",
        "    train_acc_b = n_correctb / n_total * 100\n",
        "\n",
        "    \n",
        "    test_loss = []\n",
        "    n_correcta = 0.\n",
        "    n_correctb = 0. \n",
        "    n_total = 0.\n",
        "    \n",
        "    for inputs, numbers, targets, result in test_loader:\n",
        "\n",
        "        # Move data to GPU\n",
        "        inputs, numbers, targets, result = inputs.to(device), numbers.to(device), targets.to(device), result.to(device)\n",
        "        \n",
        "        # forward pass\n",
        "        outputa, outputb = model(inputs, numbers)\n",
        "        lossa = loss_fn(outputa, targets)\n",
        "        lossb = loss_fn(outputb, result)\n",
        "\n",
        "        loss = lossa + lossb # Adds loss values from both outputs\n",
        "                \n",
        "         # get predictions\n",
        "        _, predictiona = torch.max(outputa, 1) \n",
        "        _, predictionb = torch.max(outputb, 1)\n",
        "        \n",
        "        \n",
        "        # update counts\n",
        "        n_correcta += (predictiona == targets).sum().item()\n",
        "        n_correctb += (predictionb == result).sum().item()\n",
        "\n",
        "        n_total += targets.shape[0]\n",
        "\n",
        "        test_loss.append(loss.item())\n",
        "        \n",
        "    test_loss = np.mean(test_loss)\n",
        "    test_acc_a = n_correcta / n_total * 100\n",
        "    test_acc_b = n_correctb / n_total * 100\n",
        "    \n",
        "\n",
        "    print(f'Epoch: {epoch+1}/{n_epochs}, Train Accuracy [MNIST]: {train_acc_a:.2f}%,  Train Accuracy [Sum]: {train_acc_b:.2f}%, Train Loss: {train_loss:.4f}, Test Accuracy [MNIST]: {test_acc_a:.2f}%,  Test Accuracy [Sum]: {test_acc_b:.2f}%, Train Loss: {test_loss:.4f}')"
      ],
      "execution_count": null,
      "outputs": [
        {
          "output_type": "stream",
          "text": [
            "Epoch: 1/20, Train Accuracy [MNIST]: 78.76%,  Train Accuracy [Sum]: 11.64%, Train Loss: 3.3668, Test Accuracy [MNIST]: 83.33%,  Test Accuracy [Sum]: 12.98%, Train Loss: 3.0302\n",
            "Epoch: 2/20, Train Accuracy [MNIST]: 83.33%,  Train Accuracy [Sum]: 19.43%, Train Loss: 2.8587, Test Accuracy [MNIST]: 83.94%,  Test Accuracy [Sum]: 31.13%, Train Loss: 2.4583\n",
            "Epoch: 3/20, Train Accuracy [MNIST]: 88.69%,  Train Accuracy [Sum]: 49.07%, Train Loss: 1.8991, Test Accuracy [MNIST]: 92.82%,  Test Accuracy [Sum]: 64.43%, Train Loss: 1.4057\n",
            "Epoch: 4/20, Train Accuracy [MNIST]: 92.84%,  Train Accuracy [Sum]: 70.71%, Train Loss: 1.2434, Test Accuracy [MNIST]: 92.35%,  Test Accuracy [Sum]: 73.82%, Train Loss: 1.1752\n",
            "Epoch: 5/20, Train Accuracy [MNIST]: 93.09%,  Train Accuracy [Sum]: 78.45%, Train Loss: 1.0277, Test Accuracy [MNIST]: 93.12%,  Test Accuracy [Sum]: 78.36%, Train Loss: 1.0014\n",
            "Epoch: 6/20, Train Accuracy [MNIST]: 93.33%,  Train Accuracy [Sum]: 82.47%, Train Loss: 0.9114, Test Accuracy [MNIST]: 93.06%,  Test Accuracy [Sum]: 82.27%, Train Loss: 0.9688\n",
            "Epoch: 7/20, Train Accuracy [MNIST]: 93.49%,  Train Accuracy [Sum]: 85.27%, Train Loss: 0.8322, Test Accuracy [MNIST]: 93.66%,  Test Accuracy [Sum]: 86.36%, Train Loss: 0.8283\n",
            "Epoch: 8/20, Train Accuracy [MNIST]: 93.44%,  Train Accuracy [Sum]: 86.88%, Train Loss: 0.7805, Test Accuracy [MNIST]: 93.35%,  Test Accuracy [Sum]: 87.17%, Train Loss: 0.8106\n",
            "Epoch: 9/20, Train Accuracy [MNIST]: 93.60%,  Train Accuracy [Sum]: 87.97%, Train Loss: 0.7471, Test Accuracy [MNIST]: 93.62%,  Test Accuracy [Sum]: 89.77%, Train Loss: 0.7276\n",
            "Epoch: 10/20, Train Accuracy [MNIST]: 93.68%,  Train Accuracy [Sum]: 88.43%, Train Loss: 0.7236, Test Accuracy [MNIST]: 93.14%,  Test Accuracy [Sum]: 88.64%, Train Loss: 0.7698\n",
            "Epoch: 11/20, Train Accuracy [MNIST]: 93.73%,  Train Accuracy [Sum]: 88.71%, Train Loss: 0.7112, Test Accuracy [MNIST]: 93.62%,  Test Accuracy [Sum]: 89.49%, Train Loss: 0.7162\n",
            "Epoch: 12/20, Train Accuracy [MNIST]: 93.75%,  Train Accuracy [Sum]: 89.38%, Train Loss: 0.6793, Test Accuracy [MNIST]: 92.56%,  Test Accuracy [Sum]: 86.64%, Train Loss: 0.8836\n",
            "Epoch: 13/20, Train Accuracy [MNIST]: 94.02%,  Train Accuracy [Sum]: 89.67%, Train Loss: 0.6642, Test Accuracy [MNIST]: 93.61%,  Test Accuracy [Sum]: 89.44%, Train Loss: 0.7270\n",
            "Epoch: 14/20, Train Accuracy [MNIST]: 94.06%,  Train Accuracy [Sum]: 90.22%, Train Loss: 0.6472, Test Accuracy [MNIST]: 93.54%,  Test Accuracy [Sum]: 88.64%, Train Loss: 0.7402\n",
            "Epoch: 15/20, Train Accuracy [MNIST]: 94.01%,  Train Accuracy [Sum]: 90.02%, Train Loss: 0.6423, Test Accuracy [MNIST]: 93.64%,  Test Accuracy [Sum]: 89.91%, Train Loss: 0.6890\n",
            "Epoch: 16/20, Train Accuracy [MNIST]: 94.24%,  Train Accuracy [Sum]: 90.53%, Train Loss: 0.6199, Test Accuracy [MNIST]: 92.73%,  Test Accuracy [Sum]: 89.53%, Train Loss: 0.7497\n",
            "Epoch: 17/20, Train Accuracy [MNIST]: 94.11%,  Train Accuracy [Sum]: 90.53%, Train Loss: 0.6222, Test Accuracy [MNIST]: 93.19%,  Test Accuracy [Sum]: 89.38%, Train Loss: 0.7241\n",
            "Epoch: 18/20, Train Accuracy [MNIST]: 94.27%,  Train Accuracy [Sum]: 90.92%, Train Loss: 0.6007, Test Accuracy [MNIST]: 93.67%,  Test Accuracy [Sum]: 90.65%, Train Loss: 0.6594\n",
            "Epoch: 19/20, Train Accuracy [MNIST]: 94.34%,  Train Accuracy [Sum]: 91.02%, Train Loss: 0.5953, Test Accuracy [MNIST]: 93.83%,  Test Accuracy [Sum]: 91.01%, Train Loss: 0.6534\n",
            "Epoch: 20/20, Train Accuracy [MNIST]: 94.36%,  Train Accuracy [Sum]: 91.19%, Train Loss: 0.5857, Test Accuracy [MNIST]: 93.57%,  Test Accuracy [Sum]: 90.61%, Train Loss: 0.6606\n"
          ],
          "name": "stdout"
        }
      ]
    },
    {
      "cell_type": "code",
      "metadata": {
        "id": "p10SL7dO31EN"
      },
      "source": [
        ""
      ],
      "execution_count": null,
      "outputs": []
    }
  ]
}